{
  "nbformat": 4,
  "nbformat_minor": 0,
  "metadata": {
    "colab": {
      "provenance": [],
      "authorship_tag": "ABX9TyM3mAfV3K8sqgeRHoKuSKdi",
      "include_colab_link": true
    },
    "kernelspec": {
      "name": "python3",
      "display_name": "Python 3"
    },
    "language_info": {
      "name": "python"
    }
  },
  "cells": [
    {
      "cell_type": "markdown",
      "metadata": {
        "id": "view-in-github",
        "colab_type": "text"
      },
      "source": [
        "<a href=\"https://colab.research.google.com/github/ram130849/Data_Structures/blob/main/Assignment_4.ipynb\" target=\"_parent\"><img src=\"https://colab.research.google.com/assets/colab-badge.svg\" alt=\"Open In Colab\"/></a>"
      ]
    },
    {
      "cell_type": "code",
      "execution_count": null,
      "metadata": {
        "id": "6l7p-wfzmCUv"
      },
      "outputs": [],
      "source": [
        "from collections import deque\n",
        "class TreeNode:\n",
        "  def __init__(self, val, left=None, right=None):\n",
        "    self.val = val\n",
        "    self.left = left\n",
        "    self.right = right\n",
        "    \n",
        "def level_average(t: TreeNode) -> list[float]:\n",
        "    #Your code here\n",
        "    queue = deque([])\n",
        "    queue.append(t)\n",
        "    averages = []\n",
        "    while(queue):\n",
        "      sum_val = 0\n",
        "      count_val = 0\n",
        "      temp = deque([])\n",
        "      while(queue):\n",
        "        node = queue.popleft()\n",
        "        sum_val+=node.val\n",
        "        count_val+=1\n",
        "        if(node.left):\n",
        "            temp.append(node.left)\n",
        "        if(node.right):\n",
        "            temp.append(node.right)\n",
        "      queue = temp\n",
        "      averages.append((sum_val*1.0/count_val))\n",
        "    return averages\n",
        "\n",
        "def height(t: TreeNode) -> int:\n",
        "    #Your code here\n",
        "    if(not t):\n",
        "        return 0\n",
        "    queue = deque([])\n",
        "    queue.append((t.val,1))\n",
        "    height = -99999\n",
        "    while(queue):\n",
        "        node,depth = queue.popleft()\n",
        "        if(not node.left and not node.right):\n",
        "            height = max(height,depth)\n",
        "        if(node.left):\n",
        "            queue.append((node.left,depth+1))\n",
        "        if(node.right):\n",
        "            queue.append((node.right,depth+1))\n",
        "    return height\n",
        "\n",
        "def diameter(t: TreeNode) -> int:\n",
        "    #Your code here\n",
        "    if(t==None):\n",
        "        return 0\n",
        "    diameter = 0\n",
        "    def dfs(root):\n",
        "        if(root==None):\n",
        "            return 0\n",
        "        nonlocal diameter\n",
        "        left = dfs(root.left)\n",
        "        right = dfs(root.right)\n",
        "        diameter = max(diameter,left+right)\n",
        "        return 1 + max(left,right)\n",
        "        dfs(t)\n",
        "    return diameter\n",
        "    \n",
        "def max_element(t: TreeNode) -> int:\n",
        "    #Your code here\n",
        "    if(t==None):\n",
        "        return 0\n",
        "    def max_val(root):\n",
        "        if(root == None):\n",
        "            return -float('inf')\n",
        "        curr = root.val\n",
        "        left_max = max_val(root.left)\n",
        "        curr = max(curr,left_max)\n",
        "        right_max = max_val(root.right)\n",
        "        curr = max(curr,right_max)\n",
        "        return curr\n",
        "    max_element = max_val(t)\n",
        "    return max_element\n",
        "\n",
        "def min_element(t: TreeNode) -> int:\n",
        "    # Your Code Here.\n",
        "    if(t==None):\n",
        "        return 0\n",
        "    def min_val(root):\n",
        "        if(root==None):\n",
        "            return float('inf')\n",
        "        curr = root.val\n",
        "        left_min = min_val(root.left)\n",
        "        curr = min(curr,left_min)\n",
        "        right_min = min_val(root.right)\n",
        "        curr = min(curr,right_min)\n",
        "        return curr\n",
        "    min_element = min_val(t)\n",
        "    return min_element\n",
        "  \n",
        "def preorder(t: TreeNode) -> list[float]:\n",
        "    #Your code here\n",
        "\n",
        "    return order\n",
        "  \n",
        "def postorder(t: TreeNode) -> list[float]:\n",
        "    #Your code here\n",
        "    \n",
        "    return order\n",
        "\n",
        "def is_bst(t: TreeNode) -> bool:\n",
        "    #Your code here\n",
        "    if(t is None):\n",
        "       return True\n",
        "\n",
        "    if(t.left and maxValue(t.left) > t.val):\n",
        "        return False\n",
        "\n",
        "    if(t.right and minValue(t.right) < t.val):\n",
        "        return False\n",
        "\n",
        "    if(is_bst(t.left)==False or is_bst(t.right)==False):\n",
        "        return False\n",
        "\n",
        "    return True"
      ]
    },
    {
      "cell_type": "code",
      "source": [
        "leaf1 = TreeNode(11)\n",
        "leaf2 = TreeNode(10)\n",
        "branch1 = TreeNode(2, leaf1, leaf2)\n",
        "preorder(branch1) #[2, 11, 10]\n",
        "postorder(branch1) #[11, 10, 2]\n",
        "level_average(branch1) #[2.0, 10.5]\n",
        "height(branch1) # 2\n",
        "diameter(branch1) # 3\n",
        "max_element(branch1) # 11"
      ],
      "metadata": {
        "id": "wsK9DikImDR6"
      },
      "execution_count": null,
      "outputs": []
    },
    {
      "cell_type": "code",
      "source": [
        "leaf3 = TreeNode(6)\n",
        "tree = TreeNode(8, branch1, leaf3) \n",
        "preorder(tree) # [8, 2, 11, 10, 6]\n",
        "postorder(tree) # [11, 10, 2, 6, 8]\n",
        "level_average(tree) #[8.0, 4.0, 10.5]\n",
        "height(tree) # 3\n",
        "diameter(tree) # 4\n",
        "max_element(tree) #11"
      ],
      "metadata": {
        "id": "BEshds3-mDaL"
      },
      "execution_count": null,
      "outputs": []
    },
    {
      "cell_type": "code",
      "source": [],
      "metadata": {
        "id": "yL7K0dXtmDiE"
      },
      "execution_count": null,
      "outputs": []
    },
    {
      "cell_type": "code",
      "source": [],
      "metadata": {
        "id": "8PKVlWQQmDo8"
      },
      "execution_count": null,
      "outputs": []
    },
    {
      "cell_type": "code",
      "source": [],
      "metadata": {
        "id": "Y3ocWSLdmDu0"
      },
      "execution_count": null,
      "outputs": []
    },
    {
      "cell_type": "code",
      "source": [],
      "metadata": {
        "id": "hQ0sfcYamD2C"
      },
      "execution_count": null,
      "outputs": []
    },
    {
      "cell_type": "code",
      "source": [],
      "metadata": {
        "id": "lEg_mqY7mD8g"
      },
      "execution_count": null,
      "outputs": []
    },
    {
      "cell_type": "code",
      "source": [],
      "metadata": {
        "id": "aWin6w-xmECv"
      },
      "execution_count": null,
      "outputs": []
    },
    {
      "cell_type": "code",
      "source": [],
      "metadata": {
        "id": "cC4AOOJemEIQ"
      },
      "execution_count": null,
      "outputs": []
    },
    {
      "cell_type": "code",
      "source": [],
      "metadata": {
        "id": "nm7BJiEomEMW"
      },
      "execution_count": null,
      "outputs": []
    },
    {
      "cell_type": "code",
      "source": [],
      "metadata": {
        "id": "QYewhwOdmEQx"
      },
      "execution_count": null,
      "outputs": []
    },
    {
      "cell_type": "code",
      "source": [],
      "metadata": {
        "id": "YS6144ntmEVR"
      },
      "execution_count": null,
      "outputs": []
    },
    {
      "cell_type": "code",
      "source": [],
      "metadata": {
        "id": "OC8f-ANHmEaY"
      },
      "execution_count": null,
      "outputs": []
    },
    {
      "cell_type": "code",
      "source": [],
      "metadata": {
        "id": "Gili0YYbmEep"
      },
      "execution_count": null,
      "outputs": []
    },
    {
      "cell_type": "code",
      "source": [],
      "metadata": {
        "id": "Cg5KxfMQmEjb"
      },
      "execution_count": null,
      "outputs": []
    },
    {
      "cell_type": "code",
      "source": [],
      "metadata": {
        "id": "EpDr3jlxmEoB"
      },
      "execution_count": null,
      "outputs": []
    },
    {
      "cell_type": "code",
      "source": [],
      "metadata": {
        "id": "xAS5-nXmmEsx"
      },
      "execution_count": null,
      "outputs": []
    },
    {
      "cell_type": "code",
      "source": [],
      "metadata": {
        "id": "wooeHBetmExY"
      },
      "execution_count": null,
      "outputs": []
    },
    {
      "cell_type": "code",
      "source": [],
      "metadata": {
        "id": "dNJAHsejmE2-"
      },
      "execution_count": null,
      "outputs": []
    },
    {
      "cell_type": "code",
      "source": [],
      "metadata": {
        "id": "yh-JcVMfmE66"
      },
      "execution_count": null,
      "outputs": []
    },
    {
      "cell_type": "code",
      "source": [],
      "metadata": {
        "id": "qmRXXqckmE_Z"
      },
      "execution_count": null,
      "outputs": []
    },
    {
      "cell_type": "code",
      "source": [],
      "metadata": {
        "id": "6LILk8xgmFDx"
      },
      "execution_count": null,
      "outputs": []
    },
    {
      "cell_type": "code",
      "source": [],
      "metadata": {
        "id": "kXGLWc3cmFIh"
      },
      "execution_count": null,
      "outputs": []
    },
    {
      "cell_type": "code",
      "source": [],
      "metadata": {
        "id": "LdGYM_eZmFM9"
      },
      "execution_count": null,
      "outputs": []
    },
    {
      "cell_type": "code",
      "source": [],
      "metadata": {
        "id": "zx3JvopsmFRd"
      },
      "execution_count": null,
      "outputs": []
    }
  ]
}